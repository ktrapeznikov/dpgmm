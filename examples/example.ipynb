{
 "cells": [
  {
   "cell_type": "code",
   "execution_count": null,
   "metadata": {
    "collapsed": false,
    "jupyter": {
     "outputs_hidden": false
    },
    "pycharm": {
     "name": "#%%\n"
    }
   },
   "outputs": [],
   "source": [
    "import numpy as np\n",
    "import holoviews as hv\n",
    "from sklearn.mixture import BayesianGaussianMixture\n",
    "import pandas as pd\n",
    "import logging\n",
    "from scipy.spatial.distance import cdist\n",
    "from scipy.optimize import linear_sum_assignment\n",
    "from dpm.dpgmm import WeightedDPGMM\n",
    "random_seed = 43\n",
    "np.random.seed(random_seed)\n",
    "\n",
    "hv.extension(\"bokeh\")"
   ]
  },
  {
   "cell_type": "markdown",
   "metadata": {},
   "source": [
    "### make some data"
   ]
  },
  {
   "cell_type": "code",
   "execution_count": null,
   "metadata": {
    "collapsed": false,
    "jupyter": {
     "outputs_hidden": false
    },
    "pycharm": {
     "name": "#%%\n"
    }
   },
   "outputs": [],
   "source": [
    "num_clusters = 10\n",
    "N = 200\n",
    "\n",
    "x_means = 20 * np.random.rand(1, num_clusters, 2) - 10\n",
    "y = np.random.randint(num_clusters, size=N)\n",
    "x = .08 * np.random.randn(N, 1, 2)\n",
    "\n",
    "temp = np.zeros((N, num_clusters, 1))\n",
    "temp[np.arange(N), y, :] = 1\n",
    "\n",
    "x = (x + x_means * temp).sum(1)\n",
    "\n",
    "# sample_weight =\n",
    "\n",
    "x_df = pd.DataFrame(x, columns=[\"x\", \"y\"])\n",
    "x_df[\"weight\"] = np.random.randint(1, 50, size=len(x))\n",
    "x_df[\"true_cluster\"] = y.astype(str)"
   ]
  },
  {
   "cell_type": "markdown",
   "metadata": {},
   "source": [
    "### fit weighted model"
   ]
  },
  {
   "cell_type": "code",
   "execution_count": null,
   "metadata": {},
   "outputs": [],
   "source": [
    "model = WeightedDPGMM(n_components=20, verbose=1, max_iter=1000, random_state=random_seed)\n",
    "x_df[\"predicted_cluster\"] = model.fit_predict(x, sample_weight=x_df[\"weight\"]).astype(str)"
   ]
  },
  {
   "cell_type": "markdown",
   "metadata": {},
   "source": [
    "### fit unweighted model\n",
    "basically replicate each data point \"sample_weight\" times"
   ]
  },
  {
   "cell_type": "code",
   "execution_count": null,
   "metadata": {},
   "outputs": [],
   "source": [
    "model_unweighted = BayesianGaussianMixture(n_components=20, verbose=1, random_state=random_seed)\n",
    "x_dupl = np.concatenate(\n",
    "    [np.tile(row.loc[[\"x\", \"y\"]].values.reshape(1, -1), (row[\"weight\"], 1)) for i, row in x_df.T.items()], 0)\n",
    "\n",
    "x_dupl = pd.DataFrame(x_dupl, columns=[\"x\", \"y\"])\n",
    "x_dupl[\"predicted_cluster\"] = model_unweighted.fit_predict(x_dupl.values).astype(str)"
   ]
  },
  {
   "cell_type": "markdown",
   "metadata": {},
   "source": [
    "### plot and compare"
   ]
  },
  {
   "cell_type": "code",
   "execution_count": null,
   "metadata": {},
   "outputs": [],
   "source": [
    "plot_points = hv.Points(x_df, kdims=[\"x\", \"y\"], vdims=[\"true_cluster\", \"weight\"], label=\"true\").opts(color=\"true_cluster\", fill_alpha=.9 * hv.dim(\"weight\").norm() + .1) + \\\n",
    "              hv.Points(x_df, kdims=[\"x\", \"y\"], vdims=[\"predicted_cluster\", \"weight\"],label=\"predicted weighted\").opts(color=\"predicted_cluster\", fill_alpha=.9 * hv.dim(\"weight\").norm() + .1) + \\\n",
    "              hv.Points(x_dupl, kdims=[\"x\", \"y\"], vdims=[\"predicted_cluster\"],label=\"predicted unweighted\").opts(color=\"predicted_cluster\",fill_alpha=.1)\n",
    "\n",
    "\n",
    "true_prior = x_df.groupby(\"true_cluster\")[\"weight\"].sum().sort_values(ascending=False)\n",
    "true_prior  /= true_prior.sum()\n",
    "prior_plots = hv.Curve(true_prior.to_frame(\"prior\").reset_index(drop=True).reset_index(),[\"index\"],[\"prior\"], label=\"true\").opts(width=400,  line_width=3)*\\\n",
    "              hv.Curve(np.sort(model.weights_[model.weights_>=1e-3])[::-1],[\"index\"],[\"prior\"],label=\"predicted weighted\").opts(width=400,  line_width=3)*\\\n",
    "              hv.Curve(np.sort(model_unweighted.weights_[model_unweighted.weights_>=1e-3])[::-1],[\"index\"],[\"prior\"],label=\"predicted unweighted\").opts(width=400,  line_width=3)\n",
    "\n",
    "\n",
    "plot_points = plot_points.opts(hv.opts.Points(cmap=\"Category20\", size=10, width=400, height=400, show_legend=False,tools=['hover']))\n",
    "(plot_points + prior_plots).cols(3)"
   ]
  }
 ],
 "metadata": {
  "kernelspec": {
   "display_name": "sabi",
   "language": "python",
   "name": "sabi"
  },
  "language_info": {
   "codemirror_mode": {
    "name": "ipython",
    "version": 3
   },
   "file_extension": ".py",
   "mimetype": "text/x-python",
   "name": "python",
   "nbconvert_exporter": "python",
   "pygments_lexer": "ipython3",
   "version": "3.7.6"
  }
 },
 "nbformat": 4,
 "nbformat_minor": 4
}
