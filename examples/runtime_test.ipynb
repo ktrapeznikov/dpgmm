{
 "cells": [
  {
   "cell_type": "code",
   "execution_count": null,
   "metadata": {
    "collapsed": false,
    "jupyter": {
     "outputs_hidden": false
    },
    "pycharm": {
     "name": "#%%\n"
    }
   },
   "outputs": [],
   "source": [
    "import numpy as np\n",
    "import holoviews as hv\n",
    "from sklearn.mixture import BayesianGaussianMixture\n",
    "import pandas as pd\n",
    "import logging\n",
    "from scipy.spatial.distance import cdist\n",
    "from scipy.optimize import linear_sum_assignment\n",
    "from dpm.dpgmm import WeightedDPGMM\n",
    "hv.extension(\"bokeh\")"
   ]
  },
  {
   "cell_type": "markdown",
   "metadata": {},
   "source": [
    "## compare runtime\n",
    "generate some data"
   ]
  },
  {
   "cell_type": "code",
   "execution_count": null,
   "metadata": {},
   "outputs": [],
   "source": [
    "def make_data():\n",
    "    num_clusters = 10\n",
    "    N = 100000\n",
    "\n",
    "    x_means = 20 * np.random.rand(1, num_clusters, 2) - 10\n",
    "    y = np.random.randint(num_clusters, size=N)\n",
    "    x = .08 * np.random.randn(N, 1, 2)\n",
    "\n",
    "    temp = np.zeros((N, num_clusters, 1))\n",
    "    temp[np.arange(N), y, :] = 1\n",
    "\n",
    "    x = (x + x_means * temp).sum(1)\n",
    "\n",
    "    x_df = pd.DataFrame(x, columns=[\"x\", \"y\"])\n",
    "    x_df[\"true_cluster\"] = y.astype(str)\n",
    "    return x_df"
   ]
  },
  {
   "cell_type": "markdown",
   "metadata": {},
   "source": [
    "setup timers"
   ]
  },
  {
   "cell_type": "code",
   "execution_count": null,
   "metadata": {},
   "outputs": [],
   "source": [
    "from tqdm import notebook as tqdm\n",
    "from timeit import timeit\n",
    "\n",
    "tol = 1e-6\n",
    "num_iters = 1000\n",
    "cov_type = \"diag\"\n",
    "\n",
    "def run_model(x,w,seed):\n",
    "    model = WeightedDPGMM(n_components=20, verbose=0, max_iter=num_iters, tol=tol, covariance_type=cov_type,random_state=seed)\n",
    "    labels = model.fit_predict(x, sample_weight=w)\n",
    "    \n",
    "def run_model_unweighted(x,seed):\n",
    "    model = BayesianGaussianMixture(n_components=20, verbose=0, max_iter=num_iters, tol=tol, covariance_type=cov_type,random_state=seed)\n",
    "    labels = model.fit_predict(x)\n",
    "    \n",
    "def time_model(x,w=None,kind=\"weighted\",number = 1, seed = None):\n",
    "    \n",
    "    if kind == \"weighted\":\n",
    "        dt =  timeit(lambda: run_model(x,w,seed),number=number)\n",
    "    else:\n",
    "        dt =  timeit(lambda: run_model_unweighted(x,seed),number=number)\n",
    "        \n",
    "    return dict(dt = dt/number, kind=kind, size = len(x))\n",
    "    \n",
    "\n"
   ]
  },
  {
   "cell_type": "markdown",
   "metadata": {},
   "source": [
    "run 20 trials for different number of input samples with bin size of 1."
   ]
  },
  {
   "cell_type": "code",
   "execution_count": null,
   "metadata": {},
   "outputs": [],
   "source": [
    "out = []\n",
    "\n",
    "r = 0\n",
    "\n",
    "# seed = np.random.randint(1000)\n",
    "# np.random.seed(seed)\n",
    "\n",
    "seed=None\n",
    "\n",
    "for i in tqdm.trange(20):\n",
    "    \n",
    "    \n",
    "    for num_points in tqdm.tqdm(np.logspace(3,4,30),leave=False):\n",
    "        x_df = make_data()\n",
    "\n",
    "\n",
    "\n",
    "        x_sample = x_df.sample(int(num_points))\n",
    "        x = x_sample.loc[:,[\"x\",\"y\"]].values\n",
    "\n",
    "        o = time_model(x,w=None,kind=\"unweighted\",seed= seed)\n",
    "        o[\"og_size\"] = int(num_points)\n",
    "        out.append(o)\n",
    "\n",
    "        x_df_rounded = x_sample.round(r).groupby([\"x\",\"y\"]).size().to_frame(\"weight\").reset_index()\n",
    "        x = x_df_rounded.loc[:,[\"x\",\"y\"]].values\n",
    "        w = x_df_rounded.loc[:,\"weight\"].values\n",
    "\n",
    "        o = time_model(x,w=w,kind=\"weighted\",seed = seed)\n",
    "        o[\"og_size\"] = int(num_points)\n",
    "        out.append(o)\n",
    "        \n",
    "        "
   ]
  },
  {
   "cell_type": "markdown",
   "metadata": {},
   "source": [
    "plot distribution over trials\n",
    "\n",
    "As we expect each iteration is proportional to number of samples. So if we bin the input then we get a speed up. More input points and larger bin sizes result in more gains (with loss of accuracy obvi)"
   ]
  },
  {
   "cell_type": "code",
   "execution_count": null,
   "metadata": {},
   "outputs": [],
   "source": [
    "out_df = pd.DataFrame(out)\n",
    "temp = out_df.groupby([\"kind\",\"og_size\"])[\"dt\"].agg([\"mean\",\"std\"]).reset_index().rename(columns=dict(mean=\"mean_runtime\",std=\"std_runtime\"))\n",
    "# temp[\"std_dt\"] *= 3\n",
    "def plot_method(kind):\n",
    "    return hv.Spread(temp.query(f\"kind=='{kind}'\"),[\"og_size\"],[\"mean_runtime\",\"std_runtime\"]).opts(line_color=None,alpha=.3)*\\\n",
    "           hv.Curve(temp.query(f\"kind=='{kind}'\"),[\"og_size\"],[\"mean_runtime\"]).opts(logx=True,logy=False,width=400,height=400,line_width=2)*\\\n",
    "           hv.Points(out_df.query(f\"kind=='{kind}'\"),[\"og_size\",\"dt\"]).opts(width=400,height=400,size=5,alpha=.5, line_color=None,padding=.1)\n",
    "    \n",
    "dt_plot = hv.NdOverlay([(m,plot_method(m)) for m in ['weighted','unweighted']],kdims=[\"method\"]).opts(legend_position=\"top\")\n",
    "\n",
    "# out_df[\"diff\"]\n",
    "p = dt_plot+\\\n",
    "hv.Points(out_df.query(\"kind=='weighted'\").rename(columns=dict(size=\"bins\")),[\"og_size\",\"bins\"]).opts(color=\"green\",width=400,height=400,size=5,cmap=\"Category10\",alpha=.5, line_color=None,logx=True,logy=False,padding=.1) +\\\n",
    "hv.Points(x_df.sample(10000), kdims=[\"x\", \"y\"], vdims=[\"true_cluster\"], label=\"og\").opts(color=\"true_cluster\",cmap=\"Category20\", size=5, alpha=.1, width=400, height=400, show_legend=False,padding=.2) + \\\n",
    "hv.Points(x_df.round(r).groupby([\"x\",\"y\"]).size().to_frame(\"weight\").reset_index(), kdims=[\"x\", \"y\"], vdims=[\"weight\"], label=\"binned\").opts(color=\"weight\",cmap=\"fire\",logz=True, colorbar=True, size=10, width=470, height=400,padding=.2, show_legend=False)\n",
    "p.cols(2)"
   ]
  },
  {
   "cell_type": "code",
   "execution_count": null,
   "metadata": {},
   "outputs": [],
   "source": []
  }
 ],
 "metadata": {
  "kernelspec": {
   "display_name": "sabi",
   "language": "python",
   "name": "sabi"
  },
  "language_info": {
   "codemirror_mode": {
    "name": "ipython",
    "version": 3
   },
   "file_extension": ".py",
   "mimetype": "text/x-python",
   "name": "python",
   "nbconvert_exporter": "python",
   "pygments_lexer": "ipython3",
   "version": "3.7.6"
  }
 },
 "nbformat": 4,
 "nbformat_minor": 4
}
